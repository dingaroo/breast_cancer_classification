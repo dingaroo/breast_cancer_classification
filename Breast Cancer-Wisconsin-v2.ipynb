{
 "cells": [
  {
   "cell_type": "markdown",
   "id": "e00a69d3-1b46-42f4-9801-668f8fee4e7c",
   "metadata": {},
   "source": [
    "## Classification Problem - Breast Cancer Classification\n",
    "\n",
    "[Article Link](https://blogs.oracle.com/ai-and-datascience/post/a-simple-guide-to-building-a-confusion-matrix#:~:text=The%20confusion%20matrix%20is%20represented%20by%20a%20positive,other%20hand%2C%20represents%20normality%20or%20a%20normal%20behavior.)\n",
    "\n",
    "[Data Source](https://archive.ics.uci.edu/ml/machine-learning-databases/breast-cancer-wisconsin/)\n",
    "\n",
    "**Attributes in the data set:**\n",
    "\n",
    "- Sample code number: id number\n",
    "- Clump Thickness: 1 - 10\n",
    "- Uniformity of Cell Size: 1 - 10\n",
    "- Uniformity of Cell Shape: 1 - 10\n",
    "- Marginal Adhesion: 1 - 10\n",
    "- Single Epithelial Cell Size: 1 - 10\n",
    "- Bare Nuclei: 1 - 10\n",
    "- Bland Chromatin: 1 - 10\n",
    "- Normal Nucleoli: 1 - 10\n",
    "- Mitoses: 1 - 10\n",
    "- *Class*: (2 for benign, 4 for malignant) – Binary classifier.\n",
    "\n",
    "---"
   ]
  },
  {
   "cell_type": "code",
   "execution_count": 58,
   "id": "8845d153-d1c2-4efd-9604-f1ae246c3644",
   "metadata": {},
   "outputs": [],
   "source": [
    "import pandas as pd\n",
    "import os\n",
    "import matplotlib.pyplot as plt\n",
    "import numpy as np\n",
    "import seaborn as sns\n",
    "\n",
    "%matplotlib inline\n",
    "\n",
    "os.chdir(\"/arifin.othman/learning_python/Breast Cancer - EDA\")\n",
    "file_name = \"./Wisconsin_unformatted-data\"\n"
   ]
  },
  {
   "cell_type": "code",
   "execution_count": 5,
   "id": "2927e299-8da3-49d4-bccb-257acf08a8a1",
   "metadata": {},
   "outputs": [],
   "source": [
    "file_header = [\"id\", \"class\", \"clump_thickness\", \"cell_size_uniformity\", \n",
    "               \"cell_shape_uniformity\", \"marginal_adhesion\", \n",
    "               \"single_epithelial_cell_size\", \"bare_nuclei\", \"bland_chromatin\", \n",
    "               \"normal_nucleoli\", \"mitoses\"]"
   ]
  },
  {
   "cell_type": "code",
   "execution_count": 6,
   "id": "133161c2-f78b-4262-b7c0-0b078fa2f887",
   "metadata": {},
   "outputs": [
    {
     "name": "stderr",
     "output_type": "stream",
     "text": [
      "C:\\Users\\arifin.othman\\AppData\\Local\\Temp\\ipykernel_33044\\3572045318.py:1: ParserWarning: Falling back to the 'python' engine because the 'c' engine does not support skipfooter; you can avoid this warning by specifying engine='python'.\n",
      "  data = pd.read_csv(file_name, names = file_header,\n"
     ]
    }
   ],
   "source": [
    "data = pd.read_csv(file_name, names = file_header, \n",
    "                   skiprows = 16, skipfooter = 2, skip_blank_lines = True)"
   ]
  },
  {
   "cell_type": "code",
   "execution_count": 7,
   "id": "f8c13882-749a-4fc8-ae4b-b5d23d83abdd",
   "metadata": {},
   "outputs": [
    {
     "data": {
      "text/html": [
       "<div>\n",
       "<style scoped>\n",
       "    .dataframe tbody tr th:only-of-type {\n",
       "        vertical-align: middle;\n",
       "    }\n",
       "\n",
       "    .dataframe tbody tr th {\n",
       "        vertical-align: top;\n",
       "    }\n",
       "\n",
       "    .dataframe thead th {\n",
       "        text-align: right;\n",
       "    }\n",
       "</style>\n",
       "<table border=\"1\" class=\"dataframe\">\n",
       "  <thead>\n",
       "    <tr style=\"text-align: right;\">\n",
       "      <th></th>\n",
       "      <th>id</th>\n",
       "      <th>class</th>\n",
       "      <th>clump_thickness</th>\n",
       "      <th>cell_size_uniformity</th>\n",
       "      <th>cell_shape_uniformity</th>\n",
       "      <th>marginal_adhesion</th>\n",
       "      <th>single_epithelial_cell_size</th>\n",
       "      <th>bare_nuclei</th>\n",
       "      <th>bland_chromatin</th>\n",
       "      <th>normal_nucleoli</th>\n",
       "      <th>mitoses</th>\n",
       "    </tr>\n",
       "  </thead>\n",
       "  <tbody>\n",
       "    <tr>\n",
       "      <th>0</th>\n",
       "      <td>1000025</td>\n",
       "      <td>2</td>\n",
       "      <td>5.0</td>\n",
       "      <td>1.0</td>\n",
       "      <td>1.0</td>\n",
       "      <td>1.0</td>\n",
       "      <td>2.0</td>\n",
       "      <td>1.0</td>\n",
       "      <td>3.0</td>\n",
       "      <td>1.0</td>\n",
       "      <td>1</td>\n",
       "    </tr>\n",
       "    <tr>\n",
       "      <th>1</th>\n",
       "      <td>1002945</td>\n",
       "      <td>2</td>\n",
       "      <td>5.0</td>\n",
       "      <td>4.0</td>\n",
       "      <td>4.0</td>\n",
       "      <td>5.0</td>\n",
       "      <td>7.0</td>\n",
       "      <td>10.0</td>\n",
       "      <td>3.0</td>\n",
       "      <td>2.0</td>\n",
       "      <td>1</td>\n",
       "    </tr>\n",
       "    <tr>\n",
       "      <th>2</th>\n",
       "      <td>1015425</td>\n",
       "      <td>2</td>\n",
       "      <td>3.0</td>\n",
       "      <td>1.0</td>\n",
       "      <td>1.0</td>\n",
       "      <td>1.0</td>\n",
       "      <td>2.0</td>\n",
       "      <td>2.0</td>\n",
       "      <td>3.0</td>\n",
       "      <td>1.0</td>\n",
       "      <td>1</td>\n",
       "    </tr>\n",
       "    <tr>\n",
       "      <th>3</th>\n",
       "      <td>1016277</td>\n",
       "      <td>2</td>\n",
       "      <td>6.0</td>\n",
       "      <td>8.0</td>\n",
       "      <td>8.0</td>\n",
       "      <td>1.0</td>\n",
       "      <td>3.0</td>\n",
       "      <td>4.0</td>\n",
       "      <td>3.0</td>\n",
       "      <td>7.0</td>\n",
       "      <td>1</td>\n",
       "    </tr>\n",
       "    <tr>\n",
       "      <th>4</th>\n",
       "      <td>1017023</td>\n",
       "      <td>2</td>\n",
       "      <td>4.0</td>\n",
       "      <td>1.0</td>\n",
       "      <td>1.0</td>\n",
       "      <td>3.0</td>\n",
       "      <td>2.0</td>\n",
       "      <td>1.0</td>\n",
       "      <td>3.0</td>\n",
       "      <td>1.0</td>\n",
       "      <td>1</td>\n",
       "    </tr>\n",
       "  </tbody>\n",
       "</table>\n",
       "</div>"
      ],
      "text/plain": [
       "        id class  clump_thickness  cell_size_uniformity  \\\n",
       "0  1000025     2              5.0                   1.0   \n",
       "1  1002945     2              5.0                   4.0   \n",
       "2  1015425     2              3.0                   1.0   \n",
       "3  1016277     2              6.0                   8.0   \n",
       "4  1017023     2              4.0                   1.0   \n",
       "\n",
       "   cell_shape_uniformity  marginal_adhesion  single_epithelial_cell_size  \\\n",
       "0                    1.0                1.0                          2.0   \n",
       "1                    4.0                5.0                          7.0   \n",
       "2                    1.0                1.0                          2.0   \n",
       "3                    8.0                1.0                          3.0   \n",
       "4                    1.0                3.0                          2.0   \n",
       "\n",
       "   bare_nuclei  bland_chromatin  normal_nucleoli mitoses  \n",
       "0          1.0              3.0              1.0       1  \n",
       "1         10.0              3.0              2.0       1  \n",
       "2          2.0              3.0              1.0       1  \n",
       "3          4.0              3.0              7.0       1  \n",
       "4          1.0              3.0              1.0       1  "
      ]
     },
     "execution_count": 7,
     "metadata": {},
     "output_type": "execute_result"
    }
   ],
   "source": [
    "data.head()"
   ]
  },
  {
   "cell_type": "code",
   "execution_count": 8,
   "id": "4f2685fc-5599-47b1-81a5-e360291c37aa",
   "metadata": {},
   "outputs": [
    {
     "data": {
      "text/html": [
       "<div>\n",
       "<style scoped>\n",
       "    .dataframe tbody tr th:only-of-type {\n",
       "        vertical-align: middle;\n",
       "    }\n",
       "\n",
       "    .dataframe tbody tr th {\n",
       "        vertical-align: top;\n",
       "    }\n",
       "\n",
       "    .dataframe thead th {\n",
       "        text-align: right;\n",
       "    }\n",
       "</style>\n",
       "<table border=\"1\" class=\"dataframe\">\n",
       "  <thead>\n",
       "    <tr style=\"text-align: right;\">\n",
       "      <th></th>\n",
       "      <th>id</th>\n",
       "      <th>class</th>\n",
       "      <th>clump_thickness</th>\n",
       "      <th>cell_size_uniformity</th>\n",
       "      <th>cell_shape_uniformity</th>\n",
       "      <th>marginal_adhesion</th>\n",
       "      <th>single_epithelial_cell_size</th>\n",
       "      <th>bare_nuclei</th>\n",
       "      <th>bland_chromatin</th>\n",
       "      <th>normal_nucleoli</th>\n",
       "      <th>mitoses</th>\n",
       "    </tr>\n",
       "  </thead>\n",
       "  <tbody>\n",
       "    <tr>\n",
       "      <th>704</th>\n",
       "      <td>776715</td>\n",
       "      <td>2</td>\n",
       "      <td>3.0</td>\n",
       "      <td>1.0</td>\n",
       "      <td>1.0</td>\n",
       "      <td>1.0</td>\n",
       "      <td>3.0</td>\n",
       "      <td>2.0</td>\n",
       "      <td>1.0</td>\n",
       "      <td>1.0</td>\n",
       "      <td>1</td>\n",
       "    </tr>\n",
       "    <tr>\n",
       "      <th>705</th>\n",
       "      <td>841769</td>\n",
       "      <td>2</td>\n",
       "      <td>2.0</td>\n",
       "      <td>1.0</td>\n",
       "      <td>1.0</td>\n",
       "      <td>1.0</td>\n",
       "      <td>2.0</td>\n",
       "      <td>1.0</td>\n",
       "      <td>1.0</td>\n",
       "      <td>1.0</td>\n",
       "      <td>1</td>\n",
       "    </tr>\n",
       "    <tr>\n",
       "      <th>706</th>\n",
       "      <td>888820</td>\n",
       "      <td>4</td>\n",
       "      <td>5.0</td>\n",
       "      <td>10.0</td>\n",
       "      <td>10.0</td>\n",
       "      <td>3.0</td>\n",
       "      <td>7.0</td>\n",
       "      <td>3.0</td>\n",
       "      <td>8.0</td>\n",
       "      <td>10.0</td>\n",
       "      <td>2</td>\n",
       "    </tr>\n",
       "    <tr>\n",
       "      <th>707</th>\n",
       "      <td>897471</td>\n",
       "      <td>4</td>\n",
       "      <td>4.0</td>\n",
       "      <td>8.0</td>\n",
       "      <td>6.0</td>\n",
       "      <td>4.0</td>\n",
       "      <td>3.0</td>\n",
       "      <td>4.0</td>\n",
       "      <td>10.0</td>\n",
       "      <td>6.0</td>\n",
       "      <td>1</td>\n",
       "    </tr>\n",
       "    <tr>\n",
       "      <th>708</th>\n",
       "      <td>897471</td>\n",
       "      <td>4</td>\n",
       "      <td>4.0</td>\n",
       "      <td>8.0</td>\n",
       "      <td>8.0</td>\n",
       "      <td>5.0</td>\n",
       "      <td>4.0</td>\n",
       "      <td>5.0</td>\n",
       "      <td>10.0</td>\n",
       "      <td>4.0</td>\n",
       "      <td>1</td>\n",
       "    </tr>\n",
       "  </tbody>\n",
       "</table>\n",
       "</div>"
      ],
      "text/plain": [
       "         id class  clump_thickness  cell_size_uniformity  \\\n",
       "704  776715     2              3.0                   1.0   \n",
       "705  841769     2              2.0                   1.0   \n",
       "706  888820     4              5.0                  10.0   \n",
       "707  897471     4              4.0                   8.0   \n",
       "708  897471     4              4.0                   8.0   \n",
       "\n",
       "     cell_shape_uniformity  marginal_adhesion  single_epithelial_cell_size  \\\n",
       "704                    1.0                1.0                          3.0   \n",
       "705                    1.0                1.0                          2.0   \n",
       "706                   10.0                3.0                          7.0   \n",
       "707                    6.0                4.0                          3.0   \n",
       "708                    8.0                5.0                          4.0   \n",
       "\n",
       "     bare_nuclei  bland_chromatin  normal_nucleoli mitoses  \n",
       "704          2.0              1.0              1.0       1  \n",
       "705          1.0              1.0              1.0       1  \n",
       "706          3.0              8.0             10.0       2  \n",
       "707          4.0             10.0              6.0       1  \n",
       "708          5.0             10.0              4.0       1  "
      ]
     },
     "execution_count": 8,
     "metadata": {},
     "output_type": "execute_result"
    }
   ],
   "source": [
    "data.tail()"
   ]
  },
  {
   "cell_type": "code",
   "execution_count": 9,
   "id": "b67ed3a8-4459-423c-b471-e7eaffb91431",
   "metadata": {},
   "outputs": [
    {
     "data": {
      "text/plain": [
       "(709, 11)"
      ]
     },
     "execution_count": 9,
     "metadata": {},
     "output_type": "execute_result"
    }
   ],
   "source": [
    "data.shape"
   ]
  },
  {
   "cell_type": "code",
   "execution_count": 10,
   "id": "1774980e-92bf-48d1-b8f4-c829f6e7872a",
   "metadata": {},
   "outputs": [
    {
     "data": {
      "text/plain": [
       "id                             0\n",
       "class                          7\n",
       "clump_thickness                7\n",
       "cell_size_uniformity           8\n",
       "cell_shape_uniformity          8\n",
       "marginal_adhesion              8\n",
       "single_epithelial_cell_size    8\n",
       "bare_nuclei                    8\n",
       "bland_chromatin                8\n",
       "normal_nucleoli                8\n",
       "mitoses                        8\n",
       "dtype: int64"
      ]
     },
     "execution_count": 10,
     "metadata": {},
     "output_type": "execute_result"
    }
   ],
   "source": [
    "data.isna().sum()"
   ]
  },
  {
   "cell_type": "code",
   "execution_count": 11,
   "id": "81376b89-8367-4ce5-ac8b-ad7442869bbd",
   "metadata": {},
   "outputs": [
    {
     "data": {
      "text/plain": [
       "False"
      ]
     },
     "execution_count": 11,
     "metadata": {},
     "output_type": "execute_result"
    }
   ],
   "source": [
    "data.isnull().values.all()"
   ]
  },
  {
   "cell_type": "code",
   "execution_count": 12,
   "id": "61b73d16-f52b-4f06-a866-0d5188374383",
   "metadata": {},
   "outputs": [
    {
     "data": {
      "text/html": [
       "<div>\n",
       "<style scoped>\n",
       "    .dataframe tbody tr th:only-of-type {\n",
       "        vertical-align: middle;\n",
       "    }\n",
       "\n",
       "    .dataframe tbody tr th {\n",
       "        vertical-align: top;\n",
       "    }\n",
       "\n",
       "    .dataframe thead th {\n",
       "        text-align: right;\n",
       "    }\n",
       "</style>\n",
       "<table border=\"1\" class=\"dataframe\">\n",
       "  <thead>\n",
       "    <tr style=\"text-align: right;\">\n",
       "      <th></th>\n",
       "      <th>id</th>\n",
       "      <th>class</th>\n",
       "      <th>clump_thickness</th>\n",
       "      <th>cell_size_uniformity</th>\n",
       "      <th>cell_shape_uniformity</th>\n",
       "      <th>marginal_adhesion</th>\n",
       "      <th>single_epithelial_cell_size</th>\n",
       "      <th>bare_nuclei</th>\n",
       "      <th>bland_chromatin</th>\n",
       "      <th>normal_nucleoli</th>\n",
       "      <th>mitoses</th>\n",
       "    </tr>\n",
       "  </thead>\n",
       "  <tbody>\n",
       "    <tr>\n",
       "      <th>367</th>\n",
       "      <td>##### Group 2 : 70 points: 57B 13M (October 1989)</td>\n",
       "      <td>None</td>\n",
       "      <td>NaN</td>\n",
       "      <td>NaN</td>\n",
       "      <td>NaN</td>\n",
       "      <td>NaN</td>\n",
       "      <td>NaN</td>\n",
       "      <td>NaN</td>\n",
       "      <td>NaN</td>\n",
       "      <td>NaN</td>\n",
       "      <td>None</td>\n",
       "    </tr>\n",
       "    <tr>\n",
       "      <th>438</th>\n",
       "      <td>##### Group 3 : 31 points: 22B 9M (February 1990)</td>\n",
       "      <td>None</td>\n",
       "      <td>NaN</td>\n",
       "      <td>NaN</td>\n",
       "      <td>NaN</td>\n",
       "      <td>NaN</td>\n",
       "      <td>NaN</td>\n",
       "      <td>NaN</td>\n",
       "      <td>NaN</td>\n",
       "      <td>NaN</td>\n",
       "      <td>None</td>\n",
       "    </tr>\n",
       "    <tr>\n",
       "      <th>470</th>\n",
       "      <td>##### Group 4 : 17 points: 14B 3M (April 1990)</td>\n",
       "      <td>None</td>\n",
       "      <td>NaN</td>\n",
       "      <td>NaN</td>\n",
       "      <td>NaN</td>\n",
       "      <td>NaN</td>\n",
       "      <td>NaN</td>\n",
       "      <td>NaN</td>\n",
       "      <td>NaN</td>\n",
       "      <td>NaN</td>\n",
       "      <td>None</td>\n",
       "    </tr>\n",
       "    <tr>\n",
       "      <th>488</th>\n",
       "      <td>##### Group 5 : 48 points: 36B 12M (August 1990)</td>\n",
       "      <td>None</td>\n",
       "      <td>NaN</td>\n",
       "      <td>NaN</td>\n",
       "      <td>NaN</td>\n",
       "      <td>NaN</td>\n",
       "      <td>NaN</td>\n",
       "      <td>NaN</td>\n",
       "      <td>NaN</td>\n",
       "      <td>NaN</td>\n",
       "      <td>None</td>\n",
       "    </tr>\n",
       "    <tr>\n",
       "      <th>537</th>\n",
       "      <td>##### Group 6: 49 Points: 40B  9M (December 7</td>\n",
       "      <td>1990; Updated Jan 8</td>\n",
       "      <td>1991.0</td>\n",
       "      <td>NaN</td>\n",
       "      <td>NaN</td>\n",
       "      <td>NaN</td>\n",
       "      <td>NaN</td>\n",
       "      <td>NaN</td>\n",
       "      <td>NaN</td>\n",
       "      <td>NaN</td>\n",
       "      <td>None</td>\n",
       "    </tr>\n",
       "    <tr>\n",
       "      <th>538</th>\n",
       "      <td>##### by dropping 2 unsatisfactorily   measure...</td>\n",
       "      <td>None</td>\n",
       "      <td>NaN</td>\n",
       "      <td>NaN</td>\n",
       "      <td>NaN</td>\n",
       "      <td>NaN</td>\n",
       "      <td>NaN</td>\n",
       "      <td>NaN</td>\n",
       "      <td>NaN</td>\n",
       "      <td>NaN</td>\n",
       "      <td>None</td>\n",
       "    </tr>\n",
       "    <tr>\n",
       "      <th>590</th>\n",
       "      <td>##### Group 7: 31 Points: 16B  15M (June 1991)</td>\n",
       "      <td>None</td>\n",
       "      <td>NaN</td>\n",
       "      <td>NaN</td>\n",
       "      <td>NaN</td>\n",
       "      <td>NaN</td>\n",
       "      <td>NaN</td>\n",
       "      <td>NaN</td>\n",
       "      <td>NaN</td>\n",
       "      <td>NaN</td>\n",
       "      <td>None</td>\n",
       "    </tr>\n",
       "    <tr>\n",
       "      <th>622</th>\n",
       "      <td>##### Group 8: 86 Points: 72B  14M  (November ...</td>\n",
       "      <td>None</td>\n",
       "      <td>NaN</td>\n",
       "      <td>NaN</td>\n",
       "      <td>NaN</td>\n",
       "      <td>NaN</td>\n",
       "      <td>NaN</td>\n",
       "      <td>NaN</td>\n",
       "      <td>NaN</td>\n",
       "      <td>NaN</td>\n",
       "      <td>None</td>\n",
       "    </tr>\n",
       "  </tbody>\n",
       "</table>\n",
       "</div>"
      ],
      "text/plain": [
       "                                                    id                 class  \\\n",
       "367  ##### Group 2 : 70 points: 57B 13M (October 1989)                  None   \n",
       "438  ##### Group 3 : 31 points: 22B 9M (February 1990)                  None   \n",
       "470     ##### Group 4 : 17 points: 14B 3M (April 1990)                  None   \n",
       "488   ##### Group 5 : 48 points: 36B 12M (August 1990)                  None   \n",
       "537      ##### Group 6: 49 Points: 40B  9M (December 7   1990; Updated Jan 8   \n",
       "538  ##### by dropping 2 unsatisfactorily   measure...                  None   \n",
       "590     ##### Group 7: 31 Points: 16B  15M (June 1991)                  None   \n",
       "622  ##### Group 8: 86 Points: 72B  14M  (November ...                  None   \n",
       "\n",
       "     clump_thickness  cell_size_uniformity  cell_shape_uniformity  \\\n",
       "367              NaN                   NaN                    NaN   \n",
       "438              NaN                   NaN                    NaN   \n",
       "470              NaN                   NaN                    NaN   \n",
       "488              NaN                   NaN                    NaN   \n",
       "537           1991.0                   NaN                    NaN   \n",
       "538              NaN                   NaN                    NaN   \n",
       "590              NaN                   NaN                    NaN   \n",
       "622              NaN                   NaN                    NaN   \n",
       "\n",
       "     marginal_adhesion  single_epithelial_cell_size  bare_nuclei  \\\n",
       "367                NaN                          NaN          NaN   \n",
       "438                NaN                          NaN          NaN   \n",
       "470                NaN                          NaN          NaN   \n",
       "488                NaN                          NaN          NaN   \n",
       "537                NaN                          NaN          NaN   \n",
       "538                NaN                          NaN          NaN   \n",
       "590                NaN                          NaN          NaN   \n",
       "622                NaN                          NaN          NaN   \n",
       "\n",
       "     bland_chromatin  normal_nucleoli mitoses  \n",
       "367              NaN              NaN    None  \n",
       "438              NaN              NaN    None  \n",
       "470              NaN              NaN    None  \n",
       "488              NaN              NaN    None  \n",
       "537              NaN              NaN    None  \n",
       "538              NaN              NaN    None  \n",
       "590              NaN              NaN    None  \n",
       "622              NaN              NaN    None  "
      ]
     },
     "execution_count": 12,
     "metadata": {},
     "output_type": "execute_result"
    }
   ],
   "source": [
    "data[data['mitoses'].isnull()]"
   ]
  },
  {
   "cell_type": "code",
   "execution_count": 13,
   "id": "a64cae44-dad6-4b2a-ade4-df5adc36ee73",
   "metadata": {},
   "outputs": [],
   "source": [
    "data.drop(data[data.iloc[:,10].isnull()].index.values, inplace = True)"
   ]
  },
  {
   "cell_type": "code",
   "execution_count": 14,
   "id": "7a9bb55b-e4e4-4950-8b02-023aa5f4d759",
   "metadata": {},
   "outputs": [
    {
     "data": {
      "text/plain": [
       "(701, 11)"
      ]
     },
     "execution_count": 14,
     "metadata": {},
     "output_type": "execute_result"
    }
   ],
   "source": [
    "data.shape"
   ]
  },
  {
   "cell_type": "code",
   "execution_count": 15,
   "id": "c5627dcf-4d5b-433c-b4e1-eb7b9029146b",
   "metadata": {},
   "outputs": [
    {
     "data": {
      "text/plain": [
       "array([539, 540], dtype=int64)"
      ]
     },
     "execution_count": 15,
     "metadata": {},
     "output_type": "execute_result"
    }
   ],
   "source": [
    "data[data['id'].str.len() > 8].index.values"
   ]
  },
  {
   "cell_type": "code",
   "execution_count": 16,
   "id": "5e6d797f-a34b-48a2-b8fc-02af73a09ae4",
   "metadata": {},
   "outputs": [],
   "source": [
    "data.drop(data[data['id'].str.len() > 8].index.values, inplace = True)"
   ]
  },
  {
   "cell_type": "code",
   "execution_count": 17,
   "id": "e3b8d988-3d4a-40fb-8676-26080624e427",
   "metadata": {},
   "outputs": [
    {
     "data": {
      "text/plain": [
       "(699, 11)"
      ]
     },
     "execution_count": 17,
     "metadata": {},
     "output_type": "execute_result"
    }
   ],
   "source": [
    "data.shape"
   ]
  },
  {
   "cell_type": "code",
   "execution_count": 18,
   "id": "ac7dda65-215a-4d4e-a211-cb6360d8131f",
   "metadata": {},
   "outputs": [],
   "source": [
    "data.to_csv(\"./cleaned_Wisconsin_formatted_data.csv\")"
   ]
  },
  {
   "cell_type": "code",
   "execution_count": 36,
   "id": "8625e779-436c-4c0d-af9e-1ba21be0a8c2",
   "metadata": {},
   "outputs": [
    {
     "data": {
      "text/plain": [
       "id                              object\n",
       "class                           object\n",
       "clump_thickness                float64\n",
       "cell_size_uniformity           float64\n",
       "cell_shape_uniformity          float64\n",
       "marginal_adhesion              float64\n",
       "single_epithelial_cell_size    float64\n",
       "bare_nuclei                    float64\n",
       "bland_chromatin                float64\n",
       "normal_nucleoli                float64\n",
       "mitoses                          int64\n",
       "dtype: object"
      ]
     },
     "execution_count": 36,
     "metadata": {},
     "output_type": "execute_result"
    }
   ],
   "source": [
    "data.dtypes"
   ]
  },
  {
   "cell_type": "code",
   "execution_count": 33,
   "id": "1751f672-94da-4e1b-930d-a17cf9fbdd39",
   "metadata": {},
   "outputs": [],
   "source": [
    "data['mitoses'] = data['mitoses'].astype(np.int64)"
   ]
  },
  {
   "cell_type": "code",
   "execution_count": 39,
   "id": "bc469499-0cb6-4ef5-9b55-411dc27d0fd4",
   "metadata": {},
   "outputs": [
    {
     "data": {
      "text/plain": [
       "Index(['clump_thickness', 'cell_size_uniformity', 'cell_shape_uniformity',\n",
       "       'marginal_adhesion', 'single_epithelial_cell_size', 'bare_nuclei',\n",
       "       'bland_chromatin', 'normal_nucleoli'],\n",
       "      dtype='object')"
      ]
     },
     "execution_count": 39,
     "metadata": {},
     "output_type": "execute_result"
    }
   ],
   "source": [
    "float64_columns = data.select_dtypes(include = 'float64').columns\n",
    "float64_columns"
   ]
  },
  {
   "cell_type": "code",
   "execution_count": 41,
   "id": "560f5e62-7ec8-48a4-9300-623d57049158",
   "metadata": {},
   "outputs": [],
   "source": [
    "data[float64_columns] = data[float64_columns].astype(np.int64)"
   ]
  },
  {
   "cell_type": "code",
   "execution_count": 42,
   "id": "993040dd-a32c-4509-b1e6-6aac8be7da4e",
   "metadata": {},
   "outputs": [
    {
     "data": {
      "text/plain": [
       "id                             object\n",
       "class                          object\n",
       "clump_thickness                 int64\n",
       "cell_size_uniformity            int64\n",
       "cell_shape_uniformity           int64\n",
       "marginal_adhesion               int64\n",
       "single_epithelial_cell_size     int64\n",
       "bare_nuclei                     int64\n",
       "bland_chromatin                 int64\n",
       "normal_nucleoli                 int64\n",
       "mitoses                         int64\n",
       "dtype: object"
      ]
     },
     "execution_count": 42,
     "metadata": {},
     "output_type": "execute_result"
    }
   ],
   "source": [
    "data.dtypes"
   ]
  },
  {
   "cell_type": "code",
   "execution_count": 44,
   "id": "00fad01f-f979-44ca-933a-1fc9d51f95b6",
   "metadata": {},
   "outputs": [
    {
     "data": {
      "text/html": [
       "<div>\n",
       "<style scoped>\n",
       "    .dataframe tbody tr th:only-of-type {\n",
       "        vertical-align: middle;\n",
       "    }\n",
       "\n",
       "    .dataframe tbody tr th {\n",
       "        vertical-align: top;\n",
       "    }\n",
       "\n",
       "    .dataframe thead th {\n",
       "        text-align: right;\n",
       "    }\n",
       "</style>\n",
       "<table border=\"1\" class=\"dataframe\">\n",
       "  <thead>\n",
       "    <tr style=\"text-align: right;\">\n",
       "      <th></th>\n",
       "      <th>count</th>\n",
       "      <th>mean</th>\n",
       "      <th>std</th>\n",
       "      <th>min</th>\n",
       "      <th>25%</th>\n",
       "      <th>50%</th>\n",
       "      <th>75%</th>\n",
       "      <th>max</th>\n",
       "    </tr>\n",
       "  </thead>\n",
       "  <tbody>\n",
       "    <tr>\n",
       "      <th>clump_thickness</th>\n",
       "      <td>699.0</td>\n",
       "      <td>4.417740</td>\n",
       "      <td>2.815741</td>\n",
       "      <td>1.0</td>\n",
       "      <td>2.0</td>\n",
       "      <td>4.0</td>\n",
       "      <td>6.0</td>\n",
       "      <td>10.0</td>\n",
       "    </tr>\n",
       "    <tr>\n",
       "      <th>cell_size_uniformity</th>\n",
       "      <td>699.0</td>\n",
       "      <td>3.134478</td>\n",
       "      <td>3.051459</td>\n",
       "      <td>1.0</td>\n",
       "      <td>1.0</td>\n",
       "      <td>1.0</td>\n",
       "      <td>5.0</td>\n",
       "      <td>10.0</td>\n",
       "    </tr>\n",
       "    <tr>\n",
       "      <th>cell_shape_uniformity</th>\n",
       "      <td>699.0</td>\n",
       "      <td>3.207439</td>\n",
       "      <td>2.971913</td>\n",
       "      <td>1.0</td>\n",
       "      <td>1.0</td>\n",
       "      <td>1.0</td>\n",
       "      <td>5.0</td>\n",
       "      <td>10.0</td>\n",
       "    </tr>\n",
       "    <tr>\n",
       "      <th>marginal_adhesion</th>\n",
       "      <td>699.0</td>\n",
       "      <td>2.806867</td>\n",
       "      <td>2.855379</td>\n",
       "      <td>1.0</td>\n",
       "      <td>1.0</td>\n",
       "      <td>1.0</td>\n",
       "      <td>4.0</td>\n",
       "      <td>10.0</td>\n",
       "    </tr>\n",
       "    <tr>\n",
       "      <th>single_epithelial_cell_size</th>\n",
       "      <td>699.0</td>\n",
       "      <td>3.216023</td>\n",
       "      <td>2.214300</td>\n",
       "      <td>1.0</td>\n",
       "      <td>2.0</td>\n",
       "      <td>2.0</td>\n",
       "      <td>4.0</td>\n",
       "      <td>10.0</td>\n",
       "    </tr>\n",
       "    <tr>\n",
       "      <th>bare_nuclei</th>\n",
       "      <td>699.0</td>\n",
       "      <td>3.463519</td>\n",
       "      <td>3.640708</td>\n",
       "      <td>0.0</td>\n",
       "      <td>1.0</td>\n",
       "      <td>1.0</td>\n",
       "      <td>5.0</td>\n",
       "      <td>10.0</td>\n",
       "    </tr>\n",
       "    <tr>\n",
       "      <th>bland_chromatin</th>\n",
       "      <td>699.0</td>\n",
       "      <td>3.437768</td>\n",
       "      <td>2.438364</td>\n",
       "      <td>1.0</td>\n",
       "      <td>2.0</td>\n",
       "      <td>3.0</td>\n",
       "      <td>5.0</td>\n",
       "      <td>10.0</td>\n",
       "    </tr>\n",
       "    <tr>\n",
       "      <th>normal_nucleoli</th>\n",
       "      <td>699.0</td>\n",
       "      <td>2.866953</td>\n",
       "      <td>3.053634</td>\n",
       "      <td>1.0</td>\n",
       "      <td>1.0</td>\n",
       "      <td>1.0</td>\n",
       "      <td>4.0</td>\n",
       "      <td>10.0</td>\n",
       "    </tr>\n",
       "    <tr>\n",
       "      <th>mitoses</th>\n",
       "      <td>699.0</td>\n",
       "      <td>1.589413</td>\n",
       "      <td>1.715078</td>\n",
       "      <td>1.0</td>\n",
       "      <td>1.0</td>\n",
       "      <td>1.0</td>\n",
       "      <td>1.0</td>\n",
       "      <td>10.0</td>\n",
       "    </tr>\n",
       "  </tbody>\n",
       "</table>\n",
       "</div>"
      ],
      "text/plain": [
       "                             count      mean       std  min  25%  50%  75%  \\\n",
       "clump_thickness              699.0  4.417740  2.815741  1.0  2.0  4.0  6.0   \n",
       "cell_size_uniformity         699.0  3.134478  3.051459  1.0  1.0  1.0  5.0   \n",
       "cell_shape_uniformity        699.0  3.207439  2.971913  1.0  1.0  1.0  5.0   \n",
       "marginal_adhesion            699.0  2.806867  2.855379  1.0  1.0  1.0  4.0   \n",
       "single_epithelial_cell_size  699.0  3.216023  2.214300  1.0  2.0  2.0  4.0   \n",
       "bare_nuclei                  699.0  3.463519  3.640708  0.0  1.0  1.0  5.0   \n",
       "bland_chromatin              699.0  3.437768  2.438364  1.0  2.0  3.0  5.0   \n",
       "normal_nucleoli              699.0  2.866953  3.053634  1.0  1.0  1.0  4.0   \n",
       "mitoses                      699.0  1.589413  1.715078  1.0  1.0  1.0  1.0   \n",
       "\n",
       "                              max  \n",
       "clump_thickness              10.0  \n",
       "cell_size_uniformity         10.0  \n",
       "cell_shape_uniformity        10.0  \n",
       "marginal_adhesion            10.0  \n",
       "single_epithelial_cell_size  10.0  \n",
       "bare_nuclei                  10.0  \n",
       "bland_chromatin              10.0  \n",
       "normal_nucleoli              10.0  \n",
       "mitoses                      10.0  "
      ]
     },
     "execution_count": 44,
     "metadata": {},
     "output_type": "execute_result"
    }
   ],
   "source": [
    "data.describe().T"
   ]
  },
  {
   "cell_type": "code",
   "execution_count": 49,
   "id": "4c46f8f5-da8f-4202-b21e-61630496394d",
   "metadata": {},
   "outputs": [
    {
     "data": {
      "text/html": [
       "<div>\n",
       "<style scoped>\n",
       "    .dataframe tbody tr th:only-of-type {\n",
       "        vertical-align: middle;\n",
       "    }\n",
       "\n",
       "    .dataframe tbody tr th {\n",
       "        vertical-align: top;\n",
       "    }\n",
       "\n",
       "    .dataframe thead th {\n",
       "        text-align: right;\n",
       "    }\n",
       "</style>\n",
       "<table border=\"1\" class=\"dataframe\">\n",
       "  <thead>\n",
       "    <tr style=\"text-align: right;\">\n",
       "      <th></th>\n",
       "      <th>class</th>\n",
       "      <th>id</th>\n",
       "    </tr>\n",
       "  </thead>\n",
       "  <tbody>\n",
       "    <tr>\n",
       "      <th>0</th>\n",
       "      <td>2</td>\n",
       "      <td>458</td>\n",
       "    </tr>\n",
       "    <tr>\n",
       "      <th>1</th>\n",
       "      <td>4</td>\n",
       "      <td>241</td>\n",
       "    </tr>\n",
       "  </tbody>\n",
       "</table>\n",
       "</div>"
      ],
      "text/plain": [
       "  class   id\n",
       "0     2  458\n",
       "1     4  241"
      ]
     },
     "execution_count": 49,
     "metadata": {},
     "output_type": "execute_result"
    }
   ],
   "source": [
    "data.groupby(['class'], as_index=False)['id'].agg('count')"
   ]
  },
  {
   "cell_type": "markdown",
   "id": "e05c838b-c1bf-4e2d-9b13-0e2513fb1209",
   "metadata": {},
   "source": [
    "### Notes\n",
    "\n",
    "The above table shows that 458 patients had been diagnosed as having benign cancer, while 241 are diagnosed with malignant cancer. "
   ]
  },
  {
   "cell_type": "code",
   "execution_count": 59,
   "id": "4c895a76-966c-4900-8afc-4a82ae4cd130",
   "metadata": {},
   "outputs": [
    {
     "data": {
      "text/plain": [
       "Index(['clump_thickness', 'cell_size_uniformity', 'cell_shape_uniformity',\n",
       "       'marginal_adhesion', 'single_epithelial_cell_size', 'bare_nuclei',\n",
       "       'bland_chromatin', 'normal_nucleoli', 'mitoses'],\n",
       "      dtype='object')"
      ]
     },
     "execution_count": 59,
     "metadata": {},
     "output_type": "execute_result"
    }
   ],
   "source": [
    "int64_columns = data.select_dtypes(include = 'int').columns\n",
    "int64_columns"
   ]
  },
  {
   "cell_type": "code",
   "execution_count": 60,
   "id": "f7e905ba-97fe-4435-862a-e4e03d083180",
   "metadata": {},
   "outputs": [
    {
     "data": {
      "image/png": "[encoded data removed]",
      "text/plain": [
       "<Figure size 360x360 with 1 Axes>"
      ]
     },
     "metadata": {
      "needs_background": "light"
     },
     "output_type": "display_data"
    },
    {
     "data": {
      "image/png": "[encoded data removed]",
      "text/plain": [
       "<Figure size 360x360 with 1 Axes>"
      ]
     },
     "metadata": {
      "needs_background": "light"
     },
     "output_type": "display_data"
    },
    {
     "data": {
      "image/png": "[encoded data removed]",
      "text/plain": [
       "<Figure size 360x360 with 1 Axes>"
      ]
     },
     "metadata": {
      "needs_background": "light"
     },
     "output_type": "display_data"
    },
    {
     "data": {
      "image/png": "[encoded data removed]",
      "text/plain": [
       "<Figure size 360x360 with 1 Axes>"
      ]
     },
     "metadata": {
      "needs_background": "light"
     },
     "output_type": "display_data"
    },
    {
     "data": {
      "image/png": "[encoded data removed]",
      "text/plain": [
       "<Figure size 360x360 with 1 Axes>"
      ]
     },
     "metadata": {
      "needs_background": "light"
     },
     "output_type": "display_data"
    },
    {
     "data": {
      "image/png": "[encoded data removed]",
      "text/plain": [
       "<Figure size 360x360 with 1 Axes>"
      ]
     },
     "metadata": {
      "needs_background": "light"
     },
     "output_type": "display_data"
    },
    {
     "data": {
      "image/png": "[encoded data removed]",
      "text/plain": [
       "<Figure size 360x360 with 1 Axes>"
      ]
     },
     "metadata": {
      "needs_background": "light"
     },
     "output_type": "display_data"
    },
    {
     "data": {
      "image/png": "[encoded data removed]",
      "text/plain": [
       "<Figure size 360x360 with 1 Axes>"
      ]
     },
     "metadata": {
      "needs_background": "light"
     },
     "output_type": "display_data"
    },
    {
     "data": {
      "image/png": "[encoded data removed]",
      "text/plain": [
       "<Figure size 360x360 with 1 Axes>"
      ]
     },
     "metadata": {
      "needs_background": "light"
     },
     "output_type": "display_data"
    },
    {
     "data": {
      "image/png": "[encoded data removed]",
      "text/plain": [
       "<Figure size 360x360 with 1 Axes>"
      ]
     },
     "metadata": {
      "needs_background": "light"
     },
     "output_type": "display_data"
    },
    {
     "data": {
      "image/png": "[encoded data removed]",
      "text/plain": [
       "<Figure size 360x360 with 1 Axes>"
      ]
     },
     "metadata": {
      "needs_background": "light"
     },
     "output_type": "display_data"
    }
   ],
   "source": [
    "for column in data:\n",
    "    sns.displot(x = column, data = data)"
   ]
  },
  {
   "cell_type": "code",
   "execution_count": null,
   "id": "d87c0442-9dee-4f41-9435-e314d50ac2c3",
   "metadata": {},
   "outputs": [],
   "source": []
  },
  {
   "cell_type": "code",
   "execution_count": null,
   "id": "62da82a3-56e3-4b57-8748-353d83c58a43",
   "metadata": {},
   "outputs": [],
   "source": []
  },
  {
   "cell_type": "code",
   "execution_count": null,
   "id": "a893fced-4d91-4ecb-83d0-f375c8d4119a",
   "metadata": {},
   "outputs": [],
   "source": []
  },
  {
   "cell_type": "code",
   "execution_count": null,
   "id": "15b00805-9740-46e5-9fe3-776952e45084",
   "metadata": {},
   "outputs": [],
   "source": []
  },
  {
   "cell_type": "code",
   "execution_count": null,
   "id": "16b60822-e0d4-4449-bf54-3ed76914f7c4",
   "metadata": {},
   "outputs": [],
   "source": []
  },
  {
   "cell_type": "code",
   "execution_count": null,
   "id": "107d6a17-5760-4626-8139-a7e4bb9822cb",
   "metadata": {},
   "outputs": [],
   "source": []
  },
  {
   "cell_type": "code",
   "execution_count": null,
   "id": "a0971191-f0a9-4404-98fb-7860acc812c6",
   "metadata": {},
   "outputs": [],
   "source": []
  },
  {
   "cell_type": "code",
   "execution_count": null,
   "id": "482d22ce-9eec-422e-9ef9-062a91526b97",
   "metadata": {},
   "outputs": [],
   "source": []
  },
  {
   "cell_type": "code",
   "execution_count": null,
   "id": "a5b44c16-ea96-4455-9dd2-445e8a52ed63",
   "metadata": {},
   "outputs": [],
   "source": []
  }
 ],
 "metadata": {
  "kernelspec": {
   "display_name": "Python 3 (ipykernel)",
   "language": "python",
   "name": "python3"
  },
  "language_info": {
   "codemirror_mode": {
    "name": "ipython",
    "version": 3
   },
   "file_extension": ".py",
   "mimetype": "text/x-python",
   "name": "python",
   "nbconvert_exporter": "python",
   "pygments_lexer": "ipython3",
   "version": "3.8.13"
  }
 },
 "nbformat": 4,
 "nbformat_minor": 5
}
